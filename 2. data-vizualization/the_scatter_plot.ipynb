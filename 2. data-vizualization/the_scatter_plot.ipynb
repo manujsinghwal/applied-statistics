{
  "nbformat": 4,
  "nbformat_minor": 0,
  "metadata": {
    "colab": {
      "provenance": [],
      "authorship_tag": "ABX9TyNRW8QEot6FwwQFTxbIcDE5",
      "include_colab_link": true
    },
    "kernelspec": {
      "name": "python3",
      "display_name": "Python 3"
    },
    "language_info": {
      "name": "python"
    }
  },
  "cells": [
    {
      "cell_type": "markdown",
      "metadata": {
        "id": "view-in-github",
        "colab_type": "text"
      },
      "source": [
        "<a href=\"https://colab.research.google.com/github/manujsinghwal/applied-statistics-in-python/blob/main/2.%20data-vizualization/the_scatter_plot.ipynb\" target=\"_parent\"><img src=\"https://colab.research.google.com/assets/colab-badge.svg\" alt=\"Open In Colab\"/></a>"
      ]
    },
    {
      "cell_type": "markdown",
      "source": [
        "# Scatter Plot"
      ],
      "metadata": {
        "id": "a41NKxC3H8R3"
      }
    }
  ]
}